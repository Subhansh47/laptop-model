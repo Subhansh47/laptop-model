{
 "cells": [
  {
   "cell_type": "code",
   "execution_count": 1,
   "metadata": {},
   "outputs": [
    {
     "name": "stdout",
     "output_type": "stream",
     "text": [
      "Training R^2: 0.8065490207111958\n",
      "Test R^2: 0.7360616993085507\n",
      "Predicted Price: 44473.67\n"
     ]
    }
   ],
   "source": [
    "import pandas as pd\n",
    "import numpy as np\n",
    "from sklearn.model_selection import train_test_split\n",
    "from sklearn.linear_model import Ridge\n",
    "from sklearn.pipeline import Pipeline\n",
    "from sklearn.preprocessing import OneHotEncoder\n",
    "from sklearn.compose import ColumnTransformer\n",
    "import pickle\n",
    "\n",
    "# Read the dataset\n",
    "df = pd.read_csv('laptopprice.csv')\n",
    "\n",
    "# Drop irrelevant columns and preprocess 'rating' column\n",
    "df['rate'] = df['rating'].apply(lambda x: int(x.split(' ')[0]))\n",
    "df.drop(['Number of Ratings', 'rating', 'Number of Reviews'], axis=1, inplace=True)\n",
    "\n",
    "# Separate features and target variable\n",
    "X = df.drop('Price', axis=1)\n",
    "y = df['Price']\n",
    "\n",
    "# Split the data into train and test sets\n",
    "X_train, X_test, y_train, y_test = train_test_split(X, y, test_size=0.33, random_state=42)\n",
    "\n",
    "# Create a pipeline with OneHotEncoder for categorical features and Ridge regression as the model\n",
    "categorical_features = X.select_dtypes(include=['object'])\n",
    "cp = Pipeline(steps=[(\"onehot\", OneHotEncoder(handle_unknown='ignore'))])\n",
    "pr = ColumnTransformer([(\"categorical\", cp, categorical_features.columns)])\n",
    "pipe = Pipeline(steps=[('preprocessor', pr), ('regressor', Ridge())])\n",
    "\n",
    "# Fit the pipeline to the training data\n",
    "pipe.fit(X_train, y_train)\n",
    "\n",
    "# Evaluate the model on the training and test sets\n",
    "train_score = pipe.score(X_train, y_train)\n",
    "test_score = pipe.score(X_test, y_test)\n",
    "\n",
    "print(\"Training R^2:\", train_score)\n",
    "print(\"Test R^2:\", test_score)\n",
    "\n",
    "# Save the model using pickle\n",
    "with open('pipemodel.pkl', 'wb') as file:\n",
    "    pickle.dump(pipe, file)\n",
    "\n",
    "# Assuming these are the input features in the given order\n",
    "new_data = pd.DataFrame([['Lenovo', 'Intel', 'Core i3', '10th', '4 GB', 'DDR4', '0 GB', '1024 GB', 'Windows',\n",
    "                          '64-bit', '0 GB', 'Casual', 'No warranty', 'No', 'No']],\n",
    "                        columns=['brand', 'processor_brand', 'processor_name', 'processor_gnrtn',\n",
    "                                 'ram_gb', 'ram_type', 'ssd', 'hdd', 'os', 'os_bit', 'graphic_card_gb',\n",
    "                                 'weight', 'warranty', 'Touchscreen', 'msoffice'])\n",
    "\n",
    "# Make sure to pass the new_data through the pipeline's predict function\n",
    "predicted_price = pipe.predict(new_data)\n",
    "\n",
    "print(\"Predicted Price: {:.2f}\".format(predicted_price[0]))\n"
   ]
  }
 ],
 "metadata": {
  "kernelspec": {
   "display_name": "Python 3.10.9 ('base')",
   "language": "python",
   "name": "python3"
  },
  "language_info": {
   "codemirror_mode": {
    "name": "ipython",
    "version": 3
   },
   "file_extension": ".py",
   "mimetype": "text/x-python",
   "name": "python",
   "nbconvert_exporter": "python",
   "pygments_lexer": "ipython3",
   "version": "3.10.9"
  },
  "orig_nbformat": 4,
  "vscode": {
   "interpreter": {
    "hash": "6e0b20a6579379fc2922859679b511b7c3b3d5d0b0c9f7701d1a2eb49e2528c0"
   }
  }
 },
 "nbformat": 4,
 "nbformat_minor": 2
}
